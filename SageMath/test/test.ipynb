{
 "cells": [
  {
   "cell_type": "code",
   "execution_count": null,
   "id": "9411147a",
   "metadata": {},
   "outputs": [],
   "source": [
    "import numpy as np\n",
    "import matplotlib\n",
    "import matplotlib.pyplot as plt"
   ]
  },
  {
   "cell_type": "code",
   "execution_count": 4,
   "id": "d443746c",
   "metadata": {},
   "outputs": [],
   "source": [
    "# setup: has to be in a separate cell for some reason\n",
    "plt.rcParams['figure.figsize'] = [8, 8]"
   ]
  },
  {
   "cell_type": "code",
   "execution_count": null,
   "id": "02e23eff",
   "metadata": {},
   "outputs": [],
   "source": [
    "# setup: has to be in a separate cell for some reason\n",
    "plt.rcParams['figure.figsize'] = [8, 8]\n",
    "lam = 0.8\n",
    "def new_degree():\n",
    "    return 1 + np.random.poisson(lam)\n",
    "\n",
    "N = 200 # size of graph\n",
    "# an edge from i to j if j is in edges[i]\n",
    "edges = [[] for _ in range(N)]\n",
    "active = set([0])\n",
    "visited = set([])\n",
    "unvisited = set([k for k in range(N)])\n",
    "unvisited.remove(0)\n",
    "degrees = [new_degree() for _ in range(N)]\n",
    "outdegrees = degrees.copy()\n",
    "n_active = np.repeat(-1, 1000)\n",
    "generation = [np.inf for _ in range(N)]\n",
    "generation[0] = 0\n",
    "\n",
    "is_branching_process = True\n",
    "num_ghosts = 0 # number of additional nodes\n",
    "num_ghosts_so_far = np.repeat(-1, 1000)\n",
    "\n",
    "t = 0\n",
    "while len(active) > 0:\n",
    "    x = active.pop()\n",
    "    #print(\"step\", t, \"vertex\", x)\n",
    "    while outdegrees[x] > 0:\n",
    "        outdegrees[x] -= 1\n",
    "        M = np.sum(outdegrees[:N])\n",
    "        if x < N:\n",
    "            # real\n",
    "            y = np.random.choice(N, size=1, p=outdegrees[:N]/M)[0]\n",
    "        else:\n",
    "            # ghost\n",
    "            y = N + num_ghosts\n",
    "            num_ghosts += 1\n",
    "            outdegrees.append(new_degree())\n",
    "            generation.append(np.inf)\n",
    "        outdegrees[y] -= 1\n",
    "        generation[y] = min(generation[y], 1 + generation[x])\n",
    "        assert(outdegrees[y] >= 0)\n",
    "        if y != x and y not in active:\n",
    "            #print(\"new node\")\n",
    "            if y < N:\n",
    "                unvisited.remove(y)\n",
    "            active.update([y])\n",
    "        elif is_branching_process:\n",
    "            outdegrees.append(new_degree())\n",
    "            outdegrees.append(new_degree())\n",
    "            active.update([N+num_ghosts, N+num_ghosts+1])\n",
    "            generation.append(1 + generation[x])\n",
    "            generation.append(1 + generation[x])\n",
    "            num_ghosts += 2\n",
    "        #print(\"connecting to\", y)\n",
    "        #edges[x].append(y)\n",
    "        #edges[y].append(x)\n",
    "    assert(outdegrees[x] == 0)\n",
    "    visited.update([x])\n",
    "    n_active[t] = len(active)\n",
    "    num_ghosts_so_far[t] = num_ghosts\n",
    "    t += 1\n",
    "    assert(len(visited) == t)\n",
    "    #print(\"state:\")\n",
    "    #print(\"edges:\", len(edges), edges)\n",
    "    #print(\"visited:\", visited)\n",
    "    #print(\"active:\", active)\n",
    "    #print(\"univisited:\", unvisited)\n",
    "    #print(\"outdegrees\", outdegrees)\n",
    "\n",
    "print(\"component is of size\", 1+t)\n",
    "print(\"there are\", num_ghosts, \"ghosts\")"
   ]
  },
  {
   "cell_type": "code",
   "execution_count": null,
   "id": "b7b77efd",
   "metadata": {},
   "outputs": [],
   "source": [
    "fig, ax = plt.subplots()\n",
    "ax.plot(n_active[:t])\n",
    "ax.plot(num_ghosts_so_far[:t])"
   ]
  },
  {
   "cell_type": "code",
   "execution_count": null,
   "id": "396553dc",
   "metadata": {},
   "outputs": [],
   "source": [
    "len(\"Hi Ali\")"
   ]
  }
 ],
 "metadata": {
  "kernelspec": {
   "display_name": "myenv",
   "language": "python",
   "name": "python3"
  },
  "language_info": {
   "codemirror_mode": {
    "name": "ipython",
    "version": 3
   },
   "file_extension": ".py",
   "mimetype": "text/x-python",
   "name": "python",
   "nbconvert_exporter": "python",
   "pygments_lexer": "ipython3",
   "version": "3.13.7"
  }
 },
 "nbformat": 4,
 "nbformat_minor": 5
}

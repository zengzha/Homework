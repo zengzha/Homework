{
 "cells": [
  {
   "cell_type": "code",
   "execution_count": 33,
   "id": "8229dd93",
   "metadata": {
    "vscode": {
     "languageId": "sage"
    }
   },
   "outputs": [
    {
     "data": {
      "text/plain": [
       "[Ideal (z) of Multivariate Polynomial Ring in x, y, z over Rational Field,\n",
       " Ideal (y) of Multivariate Polynomial Ring in x, y, z over Rational Field,\n",
       " Ideal (x) of Multivariate Polynomial Ring in x, y, z over Rational Field]"
      ]
     },
     "execution_count": 33,
     "metadata": {},
     "output_type": "execute_result"
    }
   ],
   "source": [
    "R = PolynomialRing(QQ, 'x,y,z')\n",
    "x,y,z = R.gens()\n",
    "I=R.ideal(x*y*z)\n",
    "I.primary_decomposition()"
   ]
  }
 ],
 "metadata": {
  "kernelspec": {
   "display_name": "SageMath 10.7",
   "language": "sage",
   "name": "SageMath-10.7"
  },
  "language_info": {
   "codemirror_mode": {
    "name": "ipython",
    "version": 3
   },
   "file_extension": ".py",
   "mimetype": "text/x-python",
   "name": "python",
   "nbconvert_exporter": "python",
   "pygments_lexer": "ipython3",
   "version": "3.13.3"
  }
 },
 "nbformat": 4,
 "nbformat_minor": 5
}

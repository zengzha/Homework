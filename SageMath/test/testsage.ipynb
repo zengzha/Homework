{
 "cells": [
  {
   "cell_type": "code",
   "execution_count": 32,
   "id": "8229dd93",
   "metadata": {
    "vscode": {
     "languageId": "sage"
    }
   },
   "outputs": [
    {
     "data": {
      "text/plain": [
       "[Ideal (x - 2, y^2) of Multivariate Polynomial Ring in x, y over Rational Field,\n",
       " Ideal (y^2 - 2*x, x^2) of Multivariate Polynomial Ring in x, y over Rational Field]"
      ]
     },
     "execution_count": 32,
     "metadata": {},
     "output_type": "execute_result"
    }
   ],
   "source": [
    "R = PolynomialRing(QQ, 'x,y')\n",
    "x,y = R.gens()\n",
    "I=R.ideal(y^2-x*(x-1)*(x-2),y^2+(x-1)^2-1)\n",
    "I.primary_decomposition()"
   ]
  }
 ],
 "metadata": {
  "kernelspec": {
   "display_name": "SageMath 10.7",
   "language": "sage",
   "name": "SageMath-10.7"
  },
  "language_info": {
   "codemirror_mode": {
    "name": "ipython",
    "version": 3
   },
   "file_extension": ".py",
   "mimetype": "text/x-python",
   "name": "python",
   "nbconvert_exporter": "python",
   "pygments_lexer": "ipython3",
   "version": "3.13.3"
  }
 },
 "nbformat": 4,
 "nbformat_minor": 5
}
